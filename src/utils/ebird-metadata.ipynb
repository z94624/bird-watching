{
 "cells": [
  {
   "cell_type": "code",
   "execution_count": null,
   "metadata": {},
   "outputs": [],
   "source": [
    "from selenium import webdriver\n",
    "from webdriver_manager.chrome import ChromeDriverManager\n",
    "from bs4 import BeautifulSoup as bs\n",
    "import time, requests, zipfile, io, pandas as pd, numpy as np, json, os"
   ]
  },
  {
   "cell_type": "markdown",
   "metadata": {},
   "source": [
    "# eBird 登入資訊"
   ]
  },
  {
   "cell_type": "code",
   "execution_count": null,
   "metadata": {},
   "outputs": [],
   "source": [
    "account = input(\"eBird 帳號：\")\n",
    "password = input(\"eBird 密碼：\")"
   ]
  },
  {
   "cell_type": "markdown",
   "metadata": {},
   "source": [
    "# 登入 eBird"
   ]
  },
  {
   "cell_type": "code",
   "execution_count": null,
   "metadata": {},
   "outputs": [],
   "source": [
    "driver = webdriver.Chrome(ChromeDriverManager().install())\n",
    "# 連到登入網址\n",
    "driver.get(\"https://secure.birds.cornell.edu/cassso/login?service=https%3A%2F%2Febird.org%2Flogin%2Fcas%3Fportal%3Debird&locale=zh\")\n",
    "driver.find_element_by_id(\"input-user-name\").clear()\n",
    "# 輸入帳號\n",
    "driver.find_element_by_id(\"input-user-name\").send_keys(account)\n",
    "driver.find_element_by_id(\"input-password\").clear()\n",
    "# 輸入密碼\n",
    "driver.find_element_by_id(\"input-password\").send_keys(password)\n",
    "# 登入\n",
    "driver.find_element_by_id(\"form-submit\").click()"
   ]
  },
  {
   "cell_type": "markdown",
   "metadata": {},
   "source": [
    "# eBird \"下載我的資料\" 檔名"
   ]
  },
  {
   "cell_type": "code",
   "execution_count": null,
   "metadata": {},
   "outputs": [],
   "source": [
    "# 連到下載檔案網址\n",
    "driver.get(\"https://ebird.org/ebird/download\")\n",
    "# 取得下載檔案頁面\n",
    "html = driver.page_source\n",
    "time.sleep(2)\n",
    "driver.close()"
   ]
  },
  {
   "cell_type": "markdown",
   "metadata": {},
   "source": [
    "# eBird \"下載我的資料\" 連結"
   ]
  },
  {
   "cell_type": "code",
   "execution_count": null,
   "metadata": {},
   "outputs": [],
   "source": [
    "soup = bs(html, 'html.parser')\n",
    "# 檔案名稱\n",
    "dataID = soup.find(\"body\").contents[0]\n",
    "# 檔案連結\n",
    "dataURL = \"https://mydata.ebird.org/downloads/\" + dataID"
   ]
  },
  {
   "cell_type": "markdown",
   "metadata": {},
   "source": [
    "# 下載並解壓縮取得 CSV 檔案"
   ]
  },
  {
   "cell_type": "code",
   "execution_count": null,
   "metadata": {},
   "outputs": [],
   "source": [
    "time.sleep(20)\n",
    "# 請求檔案\n",
    "response = requests.get(dataURL)\n",
    "# 下載壓縮檔\n",
    "zipFile = zipfile.ZipFile(io.BytesIO(response.content))\n",
    "# 解壓縮檔案\n",
    "zipFile.extractall(\"C:/Users/ressa/ReactHooks/bird-watching/src/utils\")"
   ]
  },
  {
   "cell_type": "markdown",
   "metadata": {},
   "source": [
    "# 讀取表格"
   ]
  },
  {
   "cell_type": "code",
   "execution_count": null,
   "metadata": {},
   "outputs": [],
   "source": [
    "# 讀取檔案\n",
    "df = pd.read_csv(\"C:/Users/ressa/ReactHooks/bird-watching/src/utils/MyEBirdData.csv\", encoding='utf8')\n",
    "# NaN 資料全部轉為空字串\n",
    "df_nan = df.replace(np.nan, '', regex=True)"
   ]
  },
  {
   "cell_type": "markdown",
   "metadata": {},
   "source": [
    "# 表格轉換為 JSON 格式資料"
   ]
  },
  {
   "cell_type": "code",
   "execution_count": null,
   "metadata": {},
   "outputs": [],
   "source": [
    "# 所有資料\n",
    "metadata = []\n",
    "# 對每一列\n",
    "for row in df_nan.itertuples():\n",
    "    # 該列所需資料\n",
    "    piece = {\n",
    "        \"Submission_ID\": [row[1]],\n",
    "        \"Common_Name\": [row[2]],\n",
    "        \"Count\": [row[5]],\n",
    "        \"State/Province\": [row[6]],\n",
    "        \"County\": [row[7]],\n",
    "        \"Location\": [row[9]],\n",
    "        \"Latitude\": [row[10]],\n",
    "        \"Longitude\": [row[11]],\n",
    "        \"Date\": [row[12]],\n",
    "        \"Time\": [row[13]],\n",
    "        \"Protocol\": [row[14]],\n",
    "        \"Duration(Min)\": [row[15]],\n",
    "        \"Number_of_Observers\": [row[19]],\n",
    "        \"Breeding_Code\": [row[20]],\n",
    "        \"Observation_Details\": [row[21]]\n",
    "    }\n",
    "    # 儲存\n",
    "    metadata.append(piece)"
   ]
  },
  {
   "cell_type": "markdown",
   "metadata": {},
   "source": [
    "# 儲存為 JSON 檔案"
   ]
  },
  {
   "cell_type": "code",
   "execution_count": null,
   "metadata": {},
   "outputs": [],
   "source": [
    "with open('C:/Users/ressa/ReactHooks/bird-watching/src/utils/ebird-metadata_{}.json'.format(account), 'w', encoding=\"utf-8\") as f:\n",
    "    json.dump(metadata, f, ensure_ascii=False, indent=4)"
   ]
  },
  {
   "cell_type": "markdown",
   "metadata": {},
   "source": [
    "# 刪除 CSV 檔案"
   ]
  },
  {
   "cell_type": "code",
   "execution_count": null,
   "metadata": {},
   "outputs": [],
   "source": [
    "os.remove(\"C:/Users/ressa/ReactHooks/bird-watching/src/utils/MyEBirdData.csv\")"
   ]
  },
  {
   "cell_type": "code",
   "execution_count": null,
   "metadata": {},
   "outputs": [],
   "source": []
  }
 ],
 "metadata": {
  "kernelspec": {
   "display_name": "Python 3",
   "language": "python",
   "name": "python3"
  },
  "language_info": {
   "codemirror_mode": {
    "name": "ipython",
    "version": 3
   },
   "file_extension": ".py",
   "mimetype": "text/x-python",
   "name": "python",
   "nbconvert_exporter": "python",
   "pygments_lexer": "ipython3",
   "version": "3.7.6"
  }
 },
 "nbformat": 4,
 "nbformat_minor": 4
}
