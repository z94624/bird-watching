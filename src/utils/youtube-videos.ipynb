{
 "cells": [
  {
   "cell_type": "code",
   "execution_count": null,
   "metadata": {},
   "outputs": [],
   "source": [
    "from bs4 import BeautifulSoup as bs\n",
    "from selenium import webdriver\n",
    "from webdriver_manager.chrome import ChromeDriverManager\n",
    "import time\n",
    "import datetime\n",
    "import json"
   ]
  },
  {
   "cell_type": "code",
   "execution_count": null,
   "metadata": {},
   "outputs": [],
   "source": [
    "def browseVideosInPlayList(startingVid):\n",
    "    playlistURL = \"https://www.youtube.com/watch?v={}&list=PLTks92J980S2Dbx2WaSDAT1h35vzb7iMU&ab_channel=smoBEEBirdiverse\".format(startingVid)\n",
    "    driver = webdriver.Chrome(ChromeDriverManager().install())\n",
    "    driver.get(playlistURL)\n",
    "    time.sleep(2)\n",
    "    \n",
    "    html = driver.page_source\n",
    "    time.sleep(2)\n",
    "    driver.close()\n",
    "    \n",
    "    soup = bs(html, 'html.parser')\n",
    "    \n",
    "    allVids = [a.get('href').split('v=')[1].split('&')[0] for a in soup.find_all(\"a\", class_=\"ytd-playlist-panel-video-renderer\")]\n",
    "    allSpans = [span.text for span in soup.find_all(\"span\", class_=\"ytd-playlist-panel-video-renderer\")]\n",
    "    allTitles = [span[11:-9] for span in allSpans if ' / ' in span]\n",
    "    \n",
    "    global vids, dates, locations, birds\n",
    "    firstVid = allVids[0]\n",
    "    if firstVid != startingVid:\n",
    "        newVids = [vid for vid in allVids if vid not in vids]\n",
    "        vids = newVids + vids\n",
    "        \n",
    "        newTitles = allTitles[:len(newVids)]\n",
    "        dates = [title.split(' / ')[0] for title in newTitles] + dates\n",
    "        locations = [title.split(' / ')[1] for title in newTitles] + locations\n",
    "        birds = [title.split(' / ')[2].split(' (')[0].split('（')[0].split(' #')[0] for title in newTitles] + birds\n",
    "        \n",
    "        browseVideosInPlayList(firstVid)"
   ]
  },
  {
   "cell_type": "code",
   "execution_count": null,
   "metadata": {},
   "outputs": [],
   "source": [
    "vids, dates, locations, birds = [], [], [], []\n",
    "browseVideosInPlayList(\"F-HQYa59hk8\")"
   ]
  },
  {
   "cell_type": "code",
   "execution_count": null,
   "metadata": {},
   "outputs": [],
   "source": [
    "videos = []\n",
    "for (date, location, bird, vid) in zip(dates, locations, birds, vids):\n",
    "    year = int(date[0:4])\n",
    "    month = int(date[4:6])\n",
    "    day = int(date[6:8])\n",
    "    \n",
    "    video = {\n",
    "        \"date\": datetime.date(year, month, day).isoformat(),\n",
    "        \"location\": location,\n",
    "        \"bird\": bird,\n",
    "        \"vid\": vid\n",
    "    }\n",
    "    videos.append(video)"
   ]
  },
  {
   "cell_type": "code",
   "execution_count": null,
   "metadata": {},
   "outputs": [],
   "source": [
    "with open('C:/Users/ressa/ReactHooks/bird-watching/src/utils/youtube-videos.json', 'w', encoding=\"utf-8\") as f:\n",
    "    json.dump(videos, f, ensure_ascii=False, indent=4)"
   ]
  },
  {
   "cell_type": "code",
   "execution_count": null,
   "metadata": {},
   "outputs": [],
   "source": [
    "sys.exit('\"youtube-videos.json\" has already been exported!')"
   ]
  }
 ],
 "metadata": {
  "kernelspec": {
   "display_name": "Python 3",
   "language": "python",
   "name": "python3"
  },
  "language_info": {
   "codemirror_mode": {
    "name": "ipython",
    "version": 3
   },
   "file_extension": ".py",
   "mimetype": "text/x-python",
   "name": "python",
   "nbconvert_exporter": "python",
   "pygments_lexer": "ipython3",
   "version": "3.7.6"
  }
 },
 "nbformat": 4,
 "nbformat_minor": 4
}
