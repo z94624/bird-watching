{
 "cells": [
  {
   "cell_type": "code",
   "execution_count": null,
   "metadata": {},
   "outputs": [],
   "source": [
    "import os.path, re, json, sys\n",
    "\n",
    "from google.auth.transport.requests import Request\n",
    "from google.oauth2.credentials import Credentials\n",
    "from google_auth_oauthlib.flow import InstalledAppFlow\n",
    "from googleapiclient.discovery import build\n",
    "from googleapiclient.errors import HttpError"
   ]
  },
  {
   "cell_type": "code",
   "execution_count": null,
   "metadata": {},
   "outputs": [],
   "source": [
    "# If modifying these scopes, delete the file token.json.\n",
    "SCOPES = ['https://www.googleapis.com/auth/drive.metadata.readonly']"
   ]
  },
  {
   "cell_type": "code",
   "execution_count": null,
   "metadata": {},
   "outputs": [],
   "source": [
    "\"\"\"Shows basic usage of the Drive v3 API.\n",
    "Prints the names and ids of the first 10 files the user has access to.\n",
    "\"\"\"\n",
    "creds = None\n",
    "# The file token.json stores the user's access and refresh tokens, and is\n",
    "# created automatically when the authorization flow completes for the first\n",
    "# time.\n",
    "if os.path.exists('token.json'):\n",
    "    creds = Credentials.from_authorized_user_file('token.json', SCOPES)\n",
    "# If there are no (valid) credentials available, let the user log in.\n",
    "if not creds or not creds.valid:\n",
    "    if creds and creds.expired and creds.refresh_token:\n",
    "        creds.refresh(Request())\n",
    "    else:\n",
    "        flow = InstalledAppFlow.from_client_secrets_file(\n",
    "            'credentials.json', SCOPES)\n",
    "        creds = flow.run_local_server(port=0)\n",
    "    # Save the credentials for the next run\n",
    "    with open('token.json', 'w') as token:\n",
    "        token.write(creds.to_json())"
   ]
  },
  {
   "cell_type": "markdown",
   "metadata": {},
   "source": [
    "## 取得資料夾的所有直接子資料"
   ]
  },
  {
   "cell_type": "code",
   "execution_count": null,
   "metadata": {},
   "outputs": [],
   "source": [
    "def getItemsInFolder(resource, fields, folderID):\n",
    "    results = resource.list(fields=\"files(\"+fields+\")\", q=\"'\"+folderID+\"' in parents\").execute()\n",
    "    items = results.get('files', [])\n",
    "    return items"
   ]
  },
  {
   "cell_type": "markdown",
   "metadata": {},
   "source": [
    "## 收集資料夾的所有階層照片"
   ]
  },
  {
   "cell_type": "code",
   "execution_count": null,
   "metadata": {},
   "outputs": [],
   "source": [
    "def collectPhotosUnderFolder(resource, folderID, birdPhotos):\n",
    "    items = getItemsInFolder(resource, \"id, name, mimeType\", folderID)\n",
    "    for item in items: # 對於每個檔案\n",
    "        mimeType = item['mimeType']\n",
    "        if 'image' in mimeType: # 若為相片檔\n",
    "            birdPhotos.append({\n",
    "                \"id\": item['id'],\n",
    "                \"name\": item['name']\n",
    "            })\n",
    "        elif 'folder' in mimeType: # 若為資料夾\n",
    "            collectPhotosUnderFolder(resource, item['id'], birdPhotos) # 繼續尋找底下的照片"
   ]
  },
  {
   "cell_type": "code",
   "execution_count": null,
   "metadata": {},
   "outputs": [],
   "source": [
    "try:\n",
    "    service = build('drive', 'v3', credentials=creds)\n",
    "    # Call the Drive v3 API\n",
    "    resource = service.files()\n",
    "    # 鳥照資料夾的所有照片\n",
    "    birdFolderID = \"1IrKOaV4fKzr2qG5uuxau0lHBgUi89LV_\" # 鳥照資料夾 ID\n",
    "    birdFolders = getItemsInFolder(resource, \"id, name\", birdFolderID) # 所有賞鳥資料夾\n",
    "    birdPhotosInfo = []\n",
    "    for birdFolder in birdFolders: # 對於每個賞鳥資料夾\n",
    "        birdPhotoInfo = {}\n",
    "        names = re.split('[\\[\\]]', birdFolder['name']); # [[日期], [地點], [鳥種]]\n",
    "        birdPhotoInfo['date'] = names[0]\n",
    "        birdPhotoInfo['location'] = names[1]\n",
    "        \n",
    "        birdPhotos = []\n",
    "        collectPhotosUnderFolder(resource, birdFolder['id'], birdPhotos)\n",
    "        birdPhotoInfo['images'] = birdPhotos\n",
    "        \n",
    "        birdPhotosInfo.append(birdPhotoInfo)\n",
    "except HttpError as error:\n",
    "    # TODO(developer) - Handle errors from drive API.\n",
    "    print(f'An error occurred: {error}')"
   ]
  },
  {
   "cell_type": "markdown",
   "metadata": {},
   "source": [
    "## 儲存成 JSON 檔"
   ]
  },
  {
   "cell_type": "code",
   "execution_count": null,
   "metadata": {},
   "outputs": [],
   "source": [
    "with open('birdPhotosInfo.json', 'w', encoding=\"utf-8\") as f:\n",
    "    json.dump(birdPhotosInfo, f, ensure_ascii=False, indent=4)"
   ]
  },
  {
   "cell_type": "code",
   "execution_count": null,
   "metadata": {},
   "outputs": [],
   "source": [
    "sys.exit('\"birdPhotosInfo\" has already been exported!')"
   ]
  }
 ],
 "metadata": {
  "kernelspec": {
   "display_name": "Python 3",
   "language": "python",
   "name": "python3"
  },
  "language_info": {
   "codemirror_mode": {
    "name": "ipython",
    "version": 3
   },
   "file_extension": ".py",
   "mimetype": "text/x-python",
   "name": "python",
   "nbconvert_exporter": "python",
   "pygments_lexer": "ipython3",
   "version": "3.7.6"
  }
 },
 "nbformat": 4,
 "nbformat_minor": 4
}
