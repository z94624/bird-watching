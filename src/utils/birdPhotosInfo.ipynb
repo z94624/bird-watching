{
 "cells": [
  {
   "cell_type": "code",
   "execution_count": null,
   "metadata": {},
   "outputs": [],
   "source": [
    "import pandas as pd, json, os"
   ]
  },
  {
   "cell_type": "code",
   "execution_count": null,
   "metadata": {},
   "outputs": [],
   "source": [
    "# 讀取檔案\n",
    "df = pd.read_csv(\"C:/Users/ressa/ReactHooks/bird-watching/src/utils/birdPhotosInfo.csv\", encoding='utf8')"
   ]
  },
  {
   "cell_type": "code",
   "execution_count": null,
   "metadata": {},
   "outputs": [],
   "source": [
    "# 所有資料\n",
    "metadata = []\n",
    "# 對每一列\n",
    "for row in df.itertuples():\n",
    "    # 該列所需資料`\n",
    "    piece = {\n",
    "        \"id\": row[2],\n",
    "        \"date\": row[6]\n",
    "    }\n",
    "    # 儲存\n",
    "    metadata.append(piece)\n",
    "metadata = metadata[1::]"
   ]
  },
  {
   "cell_type": "code",
   "execution_count": null,
   "metadata": {},
   "outputs": [],
   "source": [
    "with open('C:/Users/ressa/ReactHooks/bird-watching/src/utils/birdPhotosInfo.json', 'w', encoding=\"utf-8\") as f:\n",
    "    json.dump(metadata, f, ensure_ascii=False, indent=4)"
   ]
  },
  {
   "cell_type": "code",
   "execution_count": null,
   "metadata": {},
   "outputs": [],
   "source": [
    "os.remove(\"C:/Users/ressa/ReactHooks/bird-watching/src/utils/birdPhotosInfo.csv\")"
   ]
  },
  {
   "cell_type": "code",
   "execution_count": null,
   "metadata": {},
   "outputs": [],
   "source": [
    "sys.exit('\"birdPhotosInfo\" has already been exported!')"
   ]
  }
 ],
 "metadata": {
  "kernelspec": {
   "display_name": "Python 3",
   "language": "python",
   "name": "python3"
  },
  "language_info": {
   "codemirror_mode": {
    "name": "ipython",
    "version": 3
   },
   "file_extension": ".py",
   "mimetype": "text/x-python",
   "name": "python",
   "nbconvert_exporter": "python",
   "pygments_lexer": "ipython3",
   "version": "3.7.6"
  }
 },
 "nbformat": 4,
 "nbformat_minor": 4
}
